{
 "cells": [
  {
   "cell_type": "code",
   "execution_count": 9,
   "id": "66c8ff4b",
   "metadata": {
    "scrolled": true
   },
   "outputs": [],
   "source": [
    "import pandas as pd\n",
    "import numpy as np\n",
    "from sklearn.model_selection import train_test_split\n",
    "from sklearn.metrics import r2_score\n",
    "from sklearn import metrics\n",
    "from math import sqrt\n",
    "\n",
    "import math\n",
    "import tensorflow as tf\n",
    "from tensorflow import keras\n",
    "from tensorflow.keras import Model\n",
    "from tensorflow.keras import Sequential\n",
    "from tensorflow.keras import layers\n",
    "from tensorflow.keras.optimizers import Adam\n",
    "from kerastuner.tuners import RandomSearch\n",
    "from keras.layers import Dense, Activation, LeakyReLU, Dropout\n",
    "from keras.activations import relu, sigmoid\n",
    "from tensorflow.keras.losses import MeanSquaredLogarithmicError\n",
    "from scikeras.wrappers import KerasClassifier, KerasRegressor\n",
    "from sklearn.model_selection import GridSearchCV\n",
    "\n",
    "from sklearn.metrics import roc_curve\n",
    "\n",
    "from sklearn.model_selection import RepeatedKFold"
   ]
  },
  {
   "cell_type": "code",
   "execution_count": 2,
   "id": "6495b5fb",
   "metadata": {},
   "outputs": [],
   "source": [
    "df = pd.read_csv(\"df1.csv\")"
   ]
  },
  {
   "cell_type": "code",
   "execution_count": 3,
   "id": "1d67027c",
   "metadata": {},
   "outputs": [],
   "source": [
    "hidden_units1 = 160\n",
    "hidden_units2 = 480\n",
    "hidden_units3 = 256\n",
    "learning_rate = 0.01\n",
    "\n",
    "def build_model_using_sequential():\n",
    "  model = Sequential([\n",
    "    Dense(hidden_units1, kernel_initializer='normal', activation='relu', input_shape=(8,)), \n",
    "    Dropout(0.2),\n",
    "    Dense(hidden_units2, kernel_initializer='normal', activation='relu'),\n",
    "    Dropout(0.2),\n",
    "    Dense(hidden_units3, kernel_initializer='normal', activation='relu'),\n",
    "    Dense(1, kernel_initializer='normal', activation='linear')\n",
    "  ])\n",
    "  return model\n",
    "# build the model\n",
    "model = build_model_using_sequential()"
   ]
  },
  {
   "cell_type": "code",
   "execution_count": 5,
   "id": "ac03a2ed",
   "metadata": {},
   "outputs": [],
   "source": [
    "model.compile(\n",
    "    loss='mse', \n",
    "    optimizer=Adam(learning_rate=learning_rate), \n",
    "    metrics=['mae']\n",
    ")"
   ]
  },
  {
   "cell_type": "markdown",
   "id": "c322bebe",
   "metadata": {},
   "source": [
    "# Drug permeation percentage"
   ]
  },
  {
   "cell_type": "code",
   "execution_count": 6,
   "id": "7853f8d7-9618-4538-8cbf-a84e8ffd7812",
   "metadata": {},
   "outputs": [],
   "source": [
    "X = df.drop(['drug_perm_per','drug_perm_amt'], axis=1)\n",
    "y = df[[\"drug_perm_per\"]]\n",
    "\n",
    "X_train, X_test, y_train, y_test = train_test_split(X,y, test_size=0.25, shuffle=True)"
   ]
  },
  {
   "cell_type": "code",
   "execution_count": 7,
   "id": "150364e2",
   "metadata": {
    "scrolled": true
   },
   "outputs": [
    {
     "name": "stdout",
     "output_type": "stream",
     "text": [
      "Epoch 1/50\n",
      "4/4 [==============================] - 1s 58ms/step - loss: 2355922.5000 - mae: 634.8746 - val_loss: 206717.0469 - val_mae: 332.5515\n",
      "Epoch 2/50\n",
      "4/4 [==============================] - 0s 13ms/step - loss: 115519.8047 - mae: 196.1438 - val_loss: 2384.9211 - val_mae: 39.4019\n",
      "Epoch 3/50\n",
      "4/4 [==============================] - 0s 11ms/step - loss: 3044.4912 - mae: 35.2688 - val_loss: 2778.4448 - val_mae: 39.0438\n",
      "Epoch 4/50\n",
      "4/4 [==============================] - 0s 11ms/step - loss: 1244.3502 - mae: 20.3896 - val_loss: 1693.9103 - val_mae: 33.4437\n",
      "Epoch 5/50\n",
      "4/4 [==============================] - 0s 12ms/step - loss: 1039.3912 - mae: 20.9394 - val_loss: 277.6013 - val_mae: 11.5903\n",
      "Epoch 6/50\n",
      "4/4 [==============================] - 0s 11ms/step - loss: 670.7811 - mae: 16.3044 - val_loss: 196.5316 - val_mae: 10.2456\n",
      "Epoch 7/50\n",
      "4/4 [==============================] - 0s 13ms/step - loss: 284.4414 - mae: 11.1927 - val_loss: 288.8041 - val_mae: 13.2902\n",
      "Epoch 8/50\n",
      "4/4 [==============================] - 0s 11ms/step - loss: 407.3534 - mae: 12.4383 - val_loss: 258.9389 - val_mae: 12.1472\n",
      "Epoch 9/50\n",
      "4/4 [==============================] - 0s 11ms/step - loss: 404.6756 - mae: 12.3871 - val_loss: 204.5819 - val_mae: 10.3503\n",
      "Epoch 10/50\n",
      "4/4 [==============================] - 0s 11ms/step - loss: 410.0212 - mae: 11.9122 - val_loss: 308.6811 - val_mae: 13.5794\n",
      "Epoch 11/50\n",
      "4/4 [==============================] - 0s 11ms/step - loss: 490.3023 - mae: 13.0956 - val_loss: 219.2156 - val_mae: 10.6393\n",
      "Epoch 12/50\n",
      "4/4 [==============================] - 0s 13ms/step - loss: 251.6137 - mae: 10.2518 - val_loss: 183.8331 - val_mae: 9.8533\n",
      "Epoch 13/50\n",
      "4/4 [==============================] - 0s 12ms/step - loss: 334.4935 - mae: 10.7755 - val_loss: 254.1760 - val_mae: 11.1636\n",
      "Epoch 14/50\n",
      "4/4 [==============================] - 0s 13ms/step - loss: 276.5472 - mae: 10.7102 - val_loss: 255.0685 - val_mae: 11.3148\n",
      "Epoch 15/50\n",
      "4/4 [==============================] - 0s 12ms/step - loss: 329.2250 - mae: 10.5226 - val_loss: 212.2240 - val_mae: 10.4116\n",
      "Epoch 16/50\n",
      "4/4 [==============================] - 0s 12ms/step - loss: 337.5998 - mae: 11.6236 - val_loss: 199.2676 - val_mae: 10.2610\n",
      "Epoch 17/50\n",
      "4/4 [==============================] - 0s 12ms/step - loss: 377.3655 - mae: 11.2803 - val_loss: 180.3856 - val_mae: 9.9016\n",
      "Epoch 18/50\n",
      "4/4 [==============================] - 0s 12ms/step - loss: 333.4408 - mae: 11.2323 - val_loss: 236.9541 - val_mae: 10.9760\n",
      "Epoch 19/50\n",
      "4/4 [==============================] - 0s 12ms/step - loss: 314.5870 - mae: 10.6805 - val_loss: 230.1328 - val_mae: 10.7187\n",
      "Epoch 20/50\n",
      "4/4 [==============================] - 0s 12ms/step - loss: 388.9335 - mae: 12.0801 - val_loss: 273.5255 - val_mae: 11.2202\n",
      "Epoch 21/50\n",
      "4/4 [==============================] - 0s 12ms/step - loss: 535.7751 - mae: 13.1535 - val_loss: 280.2608 - val_mae: 11.5766\n",
      "Epoch 22/50\n",
      "4/4 [==============================] - 0s 11ms/step - loss: 453.6087 - mae: 12.1803 - val_loss: 212.3141 - val_mae: 10.3634\n",
      "Epoch 23/50\n",
      "4/4 [==============================] - 0s 11ms/step - loss: 368.8583 - mae: 11.4305 - val_loss: 195.0407 - val_mae: 9.9261\n",
      "Epoch 24/50\n",
      "4/4 [==============================] - 0s 11ms/step - loss: 291.2751 - mae: 10.6074 - val_loss: 190.3257 - val_mae: 9.7895\n",
      "Epoch 25/50\n",
      "4/4 [==============================] - 0s 15ms/step - loss: 314.2760 - mae: 9.8787 - val_loss: 176.0960 - val_mae: 9.5753\n",
      "Epoch 26/50\n",
      "4/4 [==============================] - 0s 11ms/step - loss: 209.8322 - mae: 8.7713 - val_loss: 176.5854 - val_mae: 9.3410\n",
      "Epoch 27/50\n",
      "4/4 [==============================] - 0s 11ms/step - loss: 272.6603 - mae: 10.1934 - val_loss: 185.8204 - val_mae: 9.5934\n",
      "Epoch 28/50\n",
      "4/4 [==============================] - 0s 11ms/step - loss: 295.9039 - mae: 10.3530 - val_loss: 251.1238 - val_mae: 10.5962\n",
      "Epoch 29/50\n",
      "4/4 [==============================] - 0s 11ms/step - loss: 300.9073 - mae: 10.0765 - val_loss: 205.3934 - val_mae: 9.7706\n",
      "Epoch 30/50\n",
      "4/4 [==============================] - 0s 11ms/step - loss: 276.7990 - mae: 9.8412 - val_loss: 146.6305 - val_mae: 8.5627\n",
      "Epoch 31/50\n",
      "4/4 [==============================] - 0s 11ms/step - loss: 246.0834 - mae: 9.7160 - val_loss: 175.3179 - val_mae: 9.3202\n",
      "Epoch 32/50\n",
      "4/4 [==============================] - 0s 12ms/step - loss: 302.1466 - mae: 10.7911 - val_loss: 192.0368 - val_mae: 9.6790\n",
      "Epoch 33/50\n",
      "4/4 [==============================] - 0s 9ms/step - loss: 278.4247 - mae: 10.3743 - val_loss: 247.4836 - val_mae: 10.9353\n",
      "Epoch 34/50\n",
      "4/4 [==============================] - 0s 17ms/step - loss: 247.5215 - mae: 9.7936 - val_loss: 222.5337 - val_mae: 10.3775\n",
      "Epoch 35/50\n",
      "4/4 [==============================] - 0s 11ms/step - loss: 316.3763 - mae: 10.5708 - val_loss: 199.9393 - val_mae: 10.1590\n",
      "Epoch 36/50\n",
      "4/4 [==============================] - 0s 12ms/step - loss: 326.4421 - mae: 11.4269 - val_loss: 228.7567 - val_mae: 10.6604\n",
      "Epoch 37/50\n",
      "4/4 [==============================] - 0s 9ms/step - loss: 243.3174 - mae: 10.3887 - val_loss: 211.1592 - val_mae: 10.4690\n",
      "Epoch 38/50\n",
      "4/4 [==============================] - 0s 16ms/step - loss: 215.8142 - mae: 10.1026 - val_loss: 181.7191 - val_mae: 9.9210\n",
      "Epoch 39/50\n",
      "4/4 [==============================] - 0s 11ms/step - loss: 307.3338 - mae: 11.1091 - val_loss: 176.5626 - val_mae: 9.7837\n",
      "Epoch 40/50\n",
      "4/4 [==============================] - 0s 12ms/step - loss: 249.1505 - mae: 9.6282 - val_loss: 197.5987 - val_mae: 10.1764\n",
      "Epoch 41/50\n",
      "4/4 [==============================] - 0s 11ms/step - loss: 270.9124 - mae: 10.4160 - val_loss: 214.3906 - val_mae: 10.4899\n",
      "Epoch 42/50\n",
      "4/4 [==============================] - 0s 12ms/step - loss: 296.2715 - mae: 10.6598 - val_loss: 236.8736 - val_mae: 10.9122\n",
      "Epoch 43/50\n",
      "4/4 [==============================] - 0s 9ms/step - loss: 230.2295 - mae: 10.0263 - val_loss: 220.8366 - val_mae: 10.6756\n",
      "Epoch 44/50\n",
      "4/4 [==============================] - 0s 12ms/step - loss: 231.4609 - mae: 9.6564 - val_loss: 183.1606 - val_mae: 10.0013\n",
      "Epoch 45/50\n",
      "4/4 [==============================] - 0s 16ms/step - loss: 277.5030 - mae: 10.5509 - val_loss: 198.9131 - val_mae: 10.2472\n",
      "Epoch 46/50\n",
      "4/4 [==============================] - 0s 10ms/step - loss: 232.7782 - mae: 10.2782 - val_loss: 249.1748 - val_mae: 11.0139\n",
      "Epoch 47/50\n",
      "4/4 [==============================] - 0s 11ms/step - loss: 247.2268 - mae: 10.5144 - val_loss: 276.0413 - val_mae: 11.3348\n",
      "Epoch 48/50\n",
      "4/4 [==============================] - 0s 11ms/step - loss: 267.3545 - mae: 10.7973 - val_loss: 206.5858 - val_mae: 10.2561\n",
      "Epoch 49/50\n",
      "4/4 [==============================] - 0s 11ms/step - loss: 246.4308 - mae: 10.5032 - val_loss: 163.0205 - val_mae: 9.4094\n",
      "Epoch 50/50\n",
      "4/4 [==============================] - 0s 11ms/step - loss: 287.1684 - mae: 11.3099 - val_loss: 191.8891 - val_mae: 9.9611\n"
     ]
    }
   ],
   "source": [
    "# train the model\n",
    "history = model.fit(\n",
    "    X_train, \n",
    "    y_train, \n",
    "    epochs=50, \n",
    "    batch_size=32,\n",
    "    validation_split=0.2\n",
    ")"
   ]
  },
  {
   "cell_type": "code",
   "execution_count": 8,
   "id": "8a2c34a5",
   "metadata": {},
   "outputs": [
    {
     "name": "stdout",
     "output_type": "stream",
     "text": [
      "2/2 [==============================] - 0s 0s/step\n"
     ]
    }
   ],
   "source": [
    "X_test['prediction'] = model.predict(X_test)"
   ]
  },
  {
   "cell_type": "code",
   "execution_count": 9,
   "id": "67251d6f",
   "metadata": {},
   "outputs": [
    {
     "name": "stdout",
     "output_type": "stream",
     "text": [
      "0.7406061647943332\n"
     ]
    }
   ],
   "source": [
    "r2 = r2_score(y_test, X_test[['prediction']])\n",
    "print(r2)"
   ]
  },
  {
   "cell_type": "code",
   "execution_count": 10,
   "id": "5429cafd",
   "metadata": {},
   "outputs": [
    {
     "data": {
      "text/plain": [
       "14.000665094354114"
      ]
     },
     "execution_count": 10,
     "metadata": {},
     "output_type": "execute_result"
    }
   ],
   "source": [
    "# RMSE\n",
    "metrics.mean_squared_error(y_test, X_test[['prediction']], squared=False)"
   ]
  },
  {
   "cell_type": "code",
   "execution_count": 5,
   "id": "7e0a81ae",
   "metadata": {},
   "outputs": [],
   "source": [
    "X = df.drop(['drug_perm_per','drug_perm_amt'], axis=1)\n",
    "y = df[[\"drug_perm_per\"]]\n",
    "\n",
    "X_train, X_test, y_train, y_test = train_test_split(X,y, test_size=0.25, shuffle=True)"
   ]
  },
  {
   "cell_type": "code",
   "execution_count": 6,
   "id": "1463992d",
   "metadata": {
    "scrolled": true
   },
   "outputs": [
    {
     "name": "stdout",
     "output_type": "stream",
     "text": [
      "Epoch 1/50\n",
      "4/4 [==============================] - 1s 57ms/step - loss: 142481840.0000 - mae: 5350.4531 - val_loss: 102622.1719 - val_mae: 248.4169\n",
      "Epoch 2/50\n",
      "4/4 [==============================] - 0s 13ms/step - loss: 69627.0312 - mae: 172.1335 - val_loss: 68373.0234 - val_mae: 204.9542\n",
      "Epoch 3/50\n",
      "4/4 [==============================] - 0s 14ms/step - loss: 24917.8594 - mae: 92.4164 - val_loss: 17628.8379 - val_mae: 102.2512\n",
      "Epoch 4/50\n",
      "4/4 [==============================] - 0s 14ms/step - loss: 24436.2402 - mae: 100.8023 - val_loss: 454.6779 - val_mae: 16.1486\n",
      "Epoch 5/50\n",
      "4/4 [==============================] - 0s 10ms/step - loss: 6353.2705 - mae: 44.9507 - val_loss: 18518.7520 - val_mae: 104.3596\n",
      "Epoch 6/50\n",
      "4/4 [==============================] - 0s 13ms/step - loss: 11687.5400 - mae: 63.0353 - val_loss: 407.3358 - val_mae: 12.9080\n",
      "Epoch 7/50\n",
      "4/4 [==============================] - 0s 15ms/step - loss: 5180.4780 - mae: 41.9689 - val_loss: 576.6644 - val_mae: 14.5179\n",
      "Epoch 8/50\n",
      "4/4 [==============================] - 0s 15ms/step - loss: 3991.6721 - mae: 37.9594 - val_loss: 2427.6079 - val_mae: 37.6275\n",
      "Epoch 9/50\n",
      "4/4 [==============================] - 0s 14ms/step - loss: 2705.7817 - mae: 33.7324 - val_loss: 1034.7657 - val_mae: 21.2809\n",
      "Epoch 10/50\n",
      "4/4 [==============================] - 0s 14ms/step - loss: 1686.6660 - mae: 23.4298 - val_loss: 1065.1401 - val_mae: 19.6224\n",
      "Epoch 11/50\n",
      "4/4 [==============================] - 0s 13ms/step - loss: 2195.2795 - mae: 27.5071 - val_loss: 549.0012 - val_mae: 15.5191\n",
      "Epoch 12/50\n",
      "4/4 [==============================] - 0s 13ms/step - loss: 1180.3218 - mae: 18.9921 - val_loss: 635.6539 - val_mae: 20.3139\n",
      "Epoch 13/50\n",
      "4/4 [==============================] - 0s 12ms/step - loss: 1326.4540 - mae: 22.2647 - val_loss: 607.8362 - val_mae: 20.0817\n",
      "Epoch 14/50\n",
      "4/4 [==============================] - 0s 12ms/step - loss: 831.7665 - mae: 18.4818 - val_loss: 358.8138 - val_mae: 13.2967\n",
      "Epoch 15/50\n",
      "4/4 [==============================] - 0s 12ms/step - loss: 701.5688 - mae: 16.8767 - val_loss: 530.6616 - val_mae: 17.9134\n",
      "Epoch 16/50\n",
      "4/4 [==============================] - 0s 12ms/step - loss: 686.0484 - mae: 16.9813 - val_loss: 583.0405 - val_mae: 19.6579\n",
      "Epoch 17/50\n",
      "4/4 [==============================] - 0s 11ms/step - loss: 860.0398 - mae: 18.0394 - val_loss: 126.1089 - val_mae: 7.9918\n",
      "Epoch 18/50\n",
      "4/4 [==============================] - 0s 12ms/step - loss: 605.0029 - mae: 15.3291 - val_loss: 135.5971 - val_mae: 8.5231\n",
      "Epoch 19/50\n",
      "4/4 [==============================] - 0s 14ms/step - loss: 528.1924 - mae: 14.1354 - val_loss: 281.9927 - val_mae: 11.5719\n",
      "Epoch 20/50\n",
      "4/4 [==============================] - 0s 12ms/step - loss: 359.2331 - mae: 12.7264 - val_loss: 343.8152 - val_mae: 13.3387\n",
      "Epoch 21/50\n",
      "4/4 [==============================] - 0s 12ms/step - loss: 499.3992 - mae: 14.6805 - val_loss: 325.1073 - val_mae: 12.3663\n",
      "Epoch 22/50\n",
      "4/4 [==============================] - 0s 12ms/step - loss: 492.5615 - mae: 13.6319 - val_loss: 235.8465 - val_mae: 10.8509\n",
      "Epoch 23/50\n",
      "4/4 [==============================] - 0s 12ms/step - loss: 459.3941 - mae: 13.6874 - val_loss: 164.2820 - val_mae: 9.6326\n",
      "Epoch 24/50\n",
      "4/4 [==============================] - 0s 12ms/step - loss: 353.4716 - mae: 12.4363 - val_loss: 217.7724 - val_mae: 10.5537\n",
      "Epoch 25/50\n",
      "4/4 [==============================] - 0s 12ms/step - loss: 319.4406 - mae: 11.9417 - val_loss: 259.9749 - val_mae: 11.6557\n",
      "Epoch 26/50\n",
      "4/4 [==============================] - 0s 12ms/step - loss: 326.5607 - mae: 11.6883 - val_loss: 294.6587 - val_mae: 12.7103\n",
      "Epoch 27/50\n",
      "4/4 [==============================] - 0s 18ms/step - loss: 315.2628 - mae: 11.7542 - val_loss: 255.7094 - val_mae: 11.2682\n",
      "Epoch 28/50\n",
      "4/4 [==============================] - 0s 15ms/step - loss: 381.6883 - mae: 11.4992 - val_loss: 264.3952 - val_mae: 11.3055\n",
      "Epoch 29/50\n",
      "4/4 [==============================] - 0s 11ms/step - loss: 320.8105 - mae: 11.6125 - val_loss: 270.5569 - val_mae: 11.4142\n",
      "Epoch 30/50\n",
      "4/4 [==============================] - 0s 11ms/step - loss: 293.7778 - mae: 10.8713 - val_loss: 224.8050 - val_mae: 10.6913\n",
      "Epoch 31/50\n",
      "4/4 [==============================] - 0s 12ms/step - loss: 267.2517 - mae: 10.8126 - val_loss: 172.9568 - val_mae: 9.7409\n",
      "Epoch 32/50\n",
      "4/4 [==============================] - 0s 13ms/step - loss: 399.9152 - mae: 12.3038 - val_loss: 132.6158 - val_mae: 8.7031\n",
      "Epoch 33/50\n",
      "4/4 [==============================] - 0s 12ms/step - loss: 270.3183 - mae: 10.1535 - val_loss: 137.1937 - val_mae: 8.6684\n",
      "Epoch 34/50\n",
      "4/4 [==============================] - 0s 14ms/step - loss: 315.5178 - mae: 11.4354 - val_loss: 144.8735 - val_mae: 9.1793\n",
      "Epoch 35/50\n",
      "4/4 [==============================] - 0s 13ms/step - loss: 275.7748 - mae: 10.6424 - val_loss: 173.6587 - val_mae: 9.7245\n",
      "Epoch 36/50\n",
      "4/4 [==============================] - 0s 12ms/step - loss: 265.4308 - mae: 10.2574 - val_loss: 178.7249 - val_mae: 9.8981\n",
      "Epoch 37/50\n",
      "4/4 [==============================] - 0s 12ms/step - loss: 230.6130 - mae: 9.6450 - val_loss: 183.2574 - val_mae: 10.0049\n",
      "Epoch 38/50\n",
      "4/4 [==============================] - 0s 15ms/step - loss: 264.1069 - mae: 11.0710 - val_loss: 199.9473 - val_mae: 10.3015\n",
      "Epoch 39/50\n",
      "4/4 [==============================] - 0s 11ms/step - loss: 269.3369 - mae: 11.4916 - val_loss: 204.1818 - val_mae: 10.3681\n",
      "Epoch 40/50\n",
      "4/4 [==============================] - 0s 15ms/step - loss: 232.4768 - mae: 9.7340 - val_loss: 203.8487 - val_mae: 10.3920\n",
      "Epoch 41/50\n",
      "4/4 [==============================] - 0s 12ms/step - loss: 269.9928 - mae: 10.7577 - val_loss: 210.2496 - val_mae: 10.4166\n",
      "Epoch 42/50\n",
      "4/4 [==============================] - 0s 13ms/step - loss: 227.6125 - mae: 10.4228 - val_loss: 243.3486 - val_mae: 11.0296\n",
      "Epoch 43/50\n",
      "4/4 [==============================] - 0s 11ms/step - loss: 209.8287 - mae: 9.5106 - val_loss: 294.7423 - val_mae: 12.0452\n",
      "Epoch 44/50\n",
      "4/4 [==============================] - 0s 12ms/step - loss: 317.1218 - mae: 12.0434 - val_loss: 229.1737 - val_mae: 10.8030\n",
      "Epoch 45/50\n",
      "4/4 [==============================] - 0s 11ms/step - loss: 293.0370 - mae: 11.5734 - val_loss: 179.6062 - val_mae: 9.9193\n",
      "Epoch 46/50\n",
      "4/4 [==============================] - 0s 13ms/step - loss: 272.2250 - mae: 10.4381 - val_loss: 270.5229 - val_mae: 11.4164\n",
      "Epoch 47/50\n",
      "4/4 [==============================] - 0s 11ms/step - loss: 255.5215 - mae: 10.3663 - val_loss: 152.6889 - val_mae: 9.2749\n",
      "Epoch 48/50\n",
      "4/4 [==============================] - 0s 12ms/step - loss: 227.9484 - mae: 9.8790 - val_loss: 117.4146 - val_mae: 8.3817\n",
      "Epoch 49/50\n",
      "4/4 [==============================] - 0s 11ms/step - loss: 235.1394 - mae: 10.6661 - val_loss: 230.7590 - val_mae: 10.8309\n",
      "Epoch 50/50\n",
      "4/4 [==============================] - 0s 15ms/step - loss: 280.2265 - mae: 10.3095 - val_loss: 269.7378 - val_mae: 11.4461\n"
     ]
    }
   ],
   "source": [
    "# train the model\n",
    "history = model.fit(\n",
    "    X_train, \n",
    "    y_train, \n",
    "    epochs=50, \n",
    "    batch_size=32,\n",
    "    validation_split=0.2\n",
    ")"
   ]
  },
  {
   "cell_type": "code",
   "execution_count": 7,
   "id": "68719eac",
   "metadata": {},
   "outputs": [
    {
     "name": "stdout",
     "output_type": "stream",
     "text": [
      "2/2 [==============================] - 0s 2ms/step\n"
     ]
    }
   ],
   "source": [
    "X_test['prediction'] = model.predict(X_test)"
   ]
  },
  {
   "cell_type": "code",
   "execution_count": 13,
   "id": "7b2f640c",
   "metadata": {},
   "outputs": [
    {
     "name": "stdout",
     "output_type": "stream",
     "text": [
      "0.5693117460739572\n"
     ]
    }
   ],
   "source": [
    "r2 = r2_score(y_test, X_test[['prediction']])\n",
    "print(r2)"
   ]
  },
  {
   "cell_type": "code",
   "execution_count": 14,
   "id": "f0edb439",
   "metadata": {},
   "outputs": [
    {
     "data": {
      "text/plain": [
       "16.005590256005693"
      ]
     },
     "execution_count": 14,
     "metadata": {},
     "output_type": "execute_result"
    }
   ],
   "source": [
    "# RMSE\n",
    "metrics.mean_squared_error(y_test, X_test[['prediction']], squared=False)"
   ]
  },
  {
   "cell_type": "code",
   "execution_count": 16,
   "id": "6461824e",
   "metadata": {},
   "outputs": [
    {
     "data": {
      "text/plain": [
       "9.733860639939607"
      ]
     },
     "execution_count": 16,
     "metadata": {},
     "output_type": "execute_result"
    }
   ],
   "source": [
    "# MAE\n",
    "metrics.mean_absolute_error(y_test, X_test[['prediction']])"
   ]
  },
  {
   "cell_type": "markdown",
   "id": "97886823",
   "metadata": {},
   "source": [
    "# Graph - Actual vs Pred"
   ]
  },
  {
   "cell_type": "code",
   "execution_count": 12,
   "id": "3bdc7667",
   "metadata": {},
   "outputs": [],
   "source": [
    "y_test.to_csv('ANN_y_test.csv')\n",
    "pd.DataFrame({'y_pred':list(X_test['prediction'].values)}).to_csv('ANN_y_pred.csv')"
   ]
  },
  {
   "cell_type": "code",
   "execution_count": 18,
   "id": "7cb99a31",
   "metadata": {},
   "outputs": [],
   "source": [
    "y_test.to_csv('ANN_y_test.csv')\n",
    "pd.DataFrame({'y_pred':list(X_test['prediction'].values)}).to_csv('ANN_y_pred.csv')"
   ]
  },
  {
   "cell_type": "markdown",
   "id": "e661477b",
   "metadata": {},
   "source": [
    "# Drug permeation amount"
   ]
  },
  {
   "cell_type": "code",
   "execution_count": 23,
   "id": "2dc69efe",
   "metadata": {},
   "outputs": [],
   "source": [
    "X = df.drop(['drug_perm_per','drug_perm_amt'], axis=1)\n",
    "y = df[[\"drug_perm_amt\"]]\n",
    "\n",
    "X_train, X_test, y_train, y_test = train_test_split(X,y, test_size=0.25, shuffle=True, )"
   ]
  },
  {
   "cell_type": "code",
   "execution_count": 19,
   "id": "7a78ba05",
   "metadata": {
    "scrolled": true
   },
   "outputs": [
    {
     "name": "stdout",
     "output_type": "stream",
     "text": [
      "Epoch 1/50\n",
      "4/4 [==============================] - 0s 21ms/step - loss: 31085906.0000 - mae: 2410.5264 - val_loss: 12089986.0000 - val_mae: 1513.8342\n",
      "Epoch 2/50\n",
      "4/4 [==============================] - 0s 12ms/step - loss: 26849802.0000 - mae: 2118.7661 - val_loss: 5998588.0000 - val_mae: 1217.7947\n",
      "Epoch 3/50\n",
      "4/4 [==============================] - 0s 13ms/step - loss: 22052420.0000 - mae: 2351.1714 - val_loss: 6650039.0000 - val_mae: 1224.6631\n",
      "Epoch 4/50\n",
      "4/4 [==============================] - 0s 11ms/step - loss: 21878936.0000 - mae: 1903.2687 - val_loss: 8534080.0000 - val_mae: 1316.8151\n",
      "Epoch 5/50\n",
      "4/4 [==============================] - 0s 11ms/step - loss: 19578738.0000 - mae: 1904.1831 - val_loss: 4809157.0000 - val_mae: 1118.7751\n",
      "Epoch 6/50\n",
      "4/4 [==============================] - 0s 12ms/step - loss: 24061868.0000 - mae: 2566.7461 - val_loss: 6482575.0000 - val_mae: 1185.6737\n",
      "Epoch 7/50\n",
      "4/4 [==============================] - 0s 11ms/step - loss: 20321168.0000 - mae: 1905.1975 - val_loss: 7803339.0000 - val_mae: 1283.1367\n",
      "Epoch 8/50\n",
      "4/4 [==============================] - 0s 12ms/step - loss: 20488606.0000 - mae: 1977.3656 - val_loss: 5279803.0000 - val_mae: 1138.1096\n",
      "Epoch 9/50\n",
      "4/4 [==============================] - 0s 11ms/step - loss: 15719277.0000 - mae: 1934.9707 - val_loss: 4727703.0000 - val_mae: 1114.8340\n",
      "Epoch 10/50\n",
      "4/4 [==============================] - 0s 11ms/step - loss: 22913748.0000 - mae: 2319.5083 - val_loss: 4800074.5000 - val_mae: 1079.1177\n",
      "Epoch 11/50\n",
      "4/4 [==============================] - 0s 12ms/step - loss: 18835318.0000 - mae: 2025.8893 - val_loss: 5589356.5000 - val_mae: 1130.1234\n",
      "Epoch 12/50\n",
      "4/4 [==============================] - 0s 11ms/step - loss: 18296122.0000 - mae: 1945.0935 - val_loss: 5120811.5000 - val_mae: 1098.7577\n",
      "Epoch 13/50\n",
      "4/4 [==============================] - 0s 11ms/step - loss: 15930146.0000 - mae: 1941.6799 - val_loss: 4481355.5000 - val_mae: 1068.0732\n",
      "Epoch 14/50\n",
      "4/4 [==============================] - 0s 13ms/step - loss: 18612372.0000 - mae: 2264.7871 - val_loss: 4413023.5000 - val_mae: 1077.5300\n",
      "Epoch 15/50\n",
      "4/4 [==============================] - 0s 11ms/step - loss: 15894502.0000 - mae: 1984.1366 - val_loss: 4949947.5000 - val_mae: 1085.3112\n",
      "Epoch 16/50\n",
      "4/4 [==============================] - 0s 12ms/step - loss: 19519290.0000 - mae: 2063.6196 - val_loss: 5056606.5000 - val_mae: 1094.2371\n",
      "Epoch 17/50\n",
      "4/4 [==============================] - 0s 11ms/step - loss: 16915956.0000 - mae: 1925.0983 - val_loss: 4569819.5000 - val_mae: 1061.5836\n",
      "Epoch 18/50\n",
      "4/4 [==============================] - 0s 11ms/step - loss: 18628252.0000 - mae: 2084.7983 - val_loss: 4460910.5000 - val_mae: 1065.6669\n",
      "Epoch 19/50\n",
      "4/4 [==============================] - 0s 12ms/step - loss: 15122414.0000 - mae: 1951.7329 - val_loss: 4973279.0000 - val_mae: 1092.6508\n",
      "Epoch 20/50\n",
      "4/4 [==============================] - 0s 11ms/step - loss: 16452055.0000 - mae: 2062.4182 - val_loss: 4740000.0000 - val_mae: 1069.4308\n",
      "Epoch 21/50\n",
      "4/4 [==============================] - 0s 11ms/step - loss: 18343800.0000 - mae: 2173.6707 - val_loss: 4639755.0000 - val_mae: 1059.2710\n",
      "Epoch 22/50\n",
      "4/4 [==============================] - 0s 12ms/step - loss: 17971328.0000 - mae: 1944.4103 - val_loss: 6290319.5000 - val_mae: 1189.6614\n",
      "Epoch 23/50\n",
      "4/4 [==============================] - 0s 11ms/step - loss: 19105614.0000 - mae: 1964.0979 - val_loss: 4994446.5000 - val_mae: 1100.8043\n",
      "Epoch 24/50\n",
      "4/4 [==============================] - 0s 13ms/step - loss: 16140499.0000 - mae: 1927.3939 - val_loss: 4423403.5000 - val_mae: 1078.6265\n",
      "Epoch 25/50\n",
      "4/4 [==============================] - 0s 11ms/step - loss: 18485380.0000 - mae: 2204.6956 - val_loss: 4346217.0000 - val_mae: 1082.1263\n",
      "Epoch 26/50\n",
      "4/4 [==============================] - 0s 13ms/step - loss: 17554814.0000 - mae: 2094.9277 - val_loss: 4746560.5000 - val_mae: 1075.5532\n",
      "Epoch 27/50\n",
      "4/4 [==============================] - 0s 13ms/step - loss: 20469842.0000 - mae: 2116.9929 - val_loss: 5379477.0000 - val_mae: 1128.1217\n",
      "Epoch 28/50\n",
      "4/4 [==============================] - 0s 11ms/step - loss: 15913411.0000 - mae: 1840.7860 - val_loss: 4695078.5000 - val_mae: 1058.6150\n",
      "Epoch 29/50\n",
      "4/4 [==============================] - 0s 10ms/step - loss: 17334752.0000 - mae: 2019.8575 - val_loss: 4409304.5000 - val_mae: 1070.8511\n",
      "Epoch 30/50\n",
      "4/4 [==============================] - 0s 13ms/step - loss: 16601022.0000 - mae: 2126.4421 - val_loss: 4510266.0000 - val_mae: 1081.3129\n",
      "Epoch 31/50\n",
      "4/4 [==============================] - 0s 11ms/step - loss: 17329264.0000 - mae: 2068.6753 - val_loss: 4824083.0000 - val_mae: 1093.7841\n",
      "Epoch 32/50\n",
      "4/4 [==============================] - 0s 11ms/step - loss: 19219266.0000 - mae: 2184.9309 - val_loss: 4589998.0000 - val_mae: 1068.7946\n",
      "Epoch 33/50\n",
      "4/4 [==============================] - 0s 11ms/step - loss: 15687333.0000 - mae: 1979.2275 - val_loss: 4671992.5000 - val_mae: 1058.3805\n",
      "Epoch 34/50\n",
      "4/4 [==============================] - 0s 12ms/step - loss: 15988524.0000 - mae: 2045.7170 - val_loss: 4802055.5000 - val_mae: 1076.9424\n",
      "Epoch 35/50\n",
      "4/4 [==============================] - 0s 11ms/step - loss: 16759501.0000 - mae: 2060.9341 - val_loss: 4562302.5000 - val_mae: 1068.2229\n",
      "Epoch 36/50\n",
      "4/4 [==============================] - 0s 11ms/step - loss: 18561088.0000 - mae: 2141.6885 - val_loss: 4455381.0000 - val_mae: 1081.8667\n",
      "Epoch 37/50\n",
      "4/4 [==============================] - 0s 11ms/step - loss: 18995432.0000 - mae: 2044.5389 - val_loss: 4995555.5000 - val_mae: 1090.3577\n",
      "Epoch 38/50\n",
      "4/4 [==============================] - 0s 11ms/step - loss: 16554027.0000 - mae: 1920.0757 - val_loss: 4822230.0000 - val_mae: 1075.8940\n",
      "Epoch 39/50\n",
      "4/4 [==============================] - 0s 11ms/step - loss: 16809140.0000 - mae: 2072.8105 - val_loss: 4761070.5000 - val_mae: 1086.3523\n",
      "Epoch 40/50\n",
      "4/4 [==============================] - 0s 11ms/step - loss: 15821457.0000 - mae: 1902.2405 - val_loss: 4714047.5000 - val_mae: 1076.0278\n",
      "Epoch 41/50\n",
      "4/4 [==============================] - 0s 11ms/step - loss: 16569822.0000 - mae: 2051.1685 - val_loss: 4379305.5000 - val_mae: 1079.1641\n",
      "Epoch 42/50\n",
      "4/4 [==============================] - 0s 12ms/step - loss: 15582262.0000 - mae: 1992.3644 - val_loss: 4412234.0000 - val_mae: 1076.2688\n",
      "Epoch 43/50\n",
      "4/4 [==============================] - 0s 10ms/step - loss: 17133632.0000 - mae: 1931.1544 - val_loss: 4801334.0000 - val_mae: 1086.9867\n",
      "Epoch 44/50\n",
      "4/4 [==============================] - 0s 11ms/step - loss: 17211222.0000 - mae: 1841.5323 - val_loss: 4635480.5000 - val_mae: 1052.6521\n",
      "Epoch 45/50\n",
      "4/4 [==============================] - 0s 11ms/step - loss: 17814470.0000 - mae: 2121.0339 - val_loss: 4557564.0000 - val_mae: 1061.6307\n",
      "Epoch 46/50\n",
      "4/4 [==============================] - 0s 13ms/step - loss: 18030810.0000 - mae: 2109.8210 - val_loss: 4819841.0000 - val_mae: 1089.2120\n",
      "Epoch 47/50\n",
      "4/4 [==============================] - 0s 11ms/step - loss: 14789548.0000 - mae: 1882.2485 - val_loss: 4978071.0000 - val_mae: 1117.4866\n",
      "Epoch 48/50\n",
      "4/4 [==============================] - 0s 14ms/step - loss: 19883698.0000 - mae: 2192.9614 - val_loss: 5195007.0000 - val_mae: 1124.0370\n",
      "Epoch 49/50\n",
      "4/4 [==============================] - 0s 11ms/step - loss: 14218461.0000 - mae: 1789.5419 - val_loss: 5831258.5000 - val_mae: 1155.4446\n",
      "Epoch 50/50\n",
      "4/4 [==============================] - 0s 11ms/step - loss: 19825952.0000 - mae: 2019.6237 - val_loss: 5732843.0000 - val_mae: 1155.6179\n"
     ]
    }
   ],
   "source": [
    "# train the model\n",
    "history = model.fit(\n",
    "    X_train, \n",
    "    y_train, \n",
    "    epochs=50, \n",
    "    batch_size=32,\n",
    "    validation_split=0.2\n",
    ")"
   ]
  },
  {
   "cell_type": "code",
   "execution_count": 25,
   "id": "5e2b7ca1",
   "metadata": {},
   "outputs": [
    {
     "name": "stdout",
     "output_type": "stream",
     "text": [
      "2/2 [==============================] - 0s 3ms/step\n"
     ]
    }
   ],
   "source": [
    "X_test['prediction'] = model.predict(X_test)"
   ]
  },
  {
   "cell_type": "code",
   "execution_count": 27,
   "id": "ae8ae185",
   "metadata": {},
   "outputs": [
    {
     "name": "stdout",
     "output_type": "stream",
     "text": [
      "0.362895329063784\n"
     ]
    }
   ],
   "source": [
    "r2 = r2_score(y_test, X_test[['prediction']])\n",
    "print(r2)"
   ]
  },
  {
   "cell_type": "code",
   "execution_count": 22,
   "id": "9c6c8e5c",
   "metadata": {},
   "outputs": [
    {
     "data": {
      "text/plain": [
       "3223.0079122766057"
      ]
     },
     "execution_count": 22,
     "metadata": {},
     "output_type": "execute_result"
    }
   ],
   "source": [
    "# RMSE\n",
    "metrics.mean_squared_error(y_test, X_test[['prediction']], squared=False)"
   ]
  },
  {
   "cell_type": "code",
   "execution_count": null,
   "id": "a8d63ea3-7128-4920-9106-d3d2f92f8471",
   "metadata": {},
   "outputs": [],
   "source": []
  }
 ],
 "metadata": {
  "kernelspec": {
   "display_name": "Python 3 (ipykernel)",
   "language": "python",
   "name": "python3"
  },
  "language_info": {
   "codemirror_mode": {
    "name": "ipython",
    "version": 3
   },
   "file_extension": ".py",
   "mimetype": "text/x-python",
   "name": "python",
   "nbconvert_exporter": "python",
   "pygments_lexer": "ipython3",
   "version": "3.11.7"
  }
 },
 "nbformat": 4,
 "nbformat_minor": 5
}
