{
 "cells": [
  {
   "cell_type": "code",
   "execution_count": 17,
   "id": "d7f33566",
   "metadata": {},
   "outputs": [],
   "source": [
    "import pandas as pd\n",
    "import seaborn as sns\n",
    "import numpy as np\n",
    "import matplotlib.pyplot as plt\n",
    "import matplotlib.style as style\n",
    "\n",
    "import warnings\n",
    "warnings.filterwarnings(\"ignore\")\n",
    "\n",
    "pd.set_option('display.max_columns',None)\n",
    "pd.set_option('display.max_rows',100)\n",
    "\n",
    "from sklearn.model_selection import train_test_split\n",
    "\n",
    "from sklearn.ensemble import RandomForestRegressor\n",
    "from sklearn.tree import DecisionTreeRegressor\n",
    "from sklearn import neighbors\n",
    "import xgboost as xg\n",
    "from sklearn.ensemble import GradientBoostingRegressor\n",
    "\n",
    "from sklearn.preprocessing import StandardScaler\n",
    "from sklearn.preprocessing import MinMaxScaler\n",
    "\n",
    "from sklearn import metrics\n",
    "from sklearn.metrics import mean_squared_error, mean_absolute_error\n",
    "from sklearn.metrics import r2_score\n",
    "from math import sqrt\n",
    "\n",
    "# Hyperparameter tuner and Cross Validation\n",
    "from sklearn.model_selection import RepeatedKFold\n",
    "from sklearn.model_selection import cross_val_score\n",
    "from sklearn.ensemble import StackingRegressor\n",
    "\n",
    "#sns.set(rc={\"figure.dpi\":300, 'savefig.dpi':300})\n",
    "plt.rcParams['figure.dpi'] = 300\n",
    "plt.rcParams['savefig.dpi'] = 300\n",
    "sns.set(rc={\"figure.dpi\":300, 'savefig.dpi':800})"
   ]
  },
  {
   "cell_type": "code",
   "execution_count": 5,
   "id": "dff530c4",
   "metadata": {},
   "outputs": [],
   "source": [
    "df = pd.read_csv(\"df1.csv\")"
   ]
  },
  {
   "cell_type": "markdown",
   "id": "d1e85242",
   "metadata": {},
   "source": [
    "# Amount"
   ]
  },
  {
   "cell_type": "code",
   "execution_count": 3,
   "id": "ace8c119",
   "metadata": {},
   "outputs": [
    {
     "name": "stdout",
     "output_type": "stream",
     "text": [
      "RMSE score: 2649.3868293900537\n"
     ]
    }
   ],
   "source": [
    "X = df.drop(['drug_perm_per','drug_perm_amt'], axis=1)\n",
    "y = df[[\"drug_perm_amt\"]]\n",
    "\n",
    "model_1 = xg.XGBRegressor()\n",
    "model_2 = RandomForestRegressor()\n",
    "model_3 = DecisionTreeRegressor()\n",
    "model_4 = GradientBoostingRegressor()\n",
    "model_5 = neighbors.KNeighborsRegressor(n_neighbors = 1)\n",
    "final_model = StackingRegressor(estimators=[('xgb', model_1), ('rf', model_2), ('dt', model_3), ('knn',model_5)], final_estimator=model_4, cv=5)\n",
    "\n",
    "cv = RepeatedKFold(n_splits=10, n_repeats=3, random_state=1)\n",
    "scores = cross_val_score(final_model, X, y, scoring='neg_root_mean_squared_error', cv=cv, n_jobs=-1, error_score='raise')\n",
    "#print(sorted(scores.tolist()))\n",
    "print(\"RMSE score:\", np.negative(np.mean(scores)))"
   ]
  },
  {
   "cell_type": "code",
   "execution_count": 3,
   "id": "4fb3fa49",
   "metadata": {},
   "outputs": [
    {
     "name": "stdout",
     "output_type": "stream",
     "text": [
      "R2 score: -0.014365328940422743\n"
     ]
    }
   ],
   "source": [
    "X = df.drop(['drug_perm_per','drug_perm_amt'], axis=1)\n",
    "y = df[[\"drug_perm_amt\"]]\n",
    "\n",
    "model_1 = xg.XGBRegressor()\n",
    "model_2 = RandomForestRegressor()\n",
    "model_3 = DecisionTreeRegressor()\n",
    "model_4 = GradientBoostingRegressor()\n",
    "model_5 = neighbors.KNeighborsRegressor(n_neighbors = 1)\n",
    "final_model = StackingRegressor(estimators=[('xgb', model_1), ('rf', model_2), ('dt', model_3), ('knn',model_5)], final_estimator=model_4, cv=5)\n",
    "\n",
    "cv = RepeatedKFold(n_splits=10, n_repeats=3, random_state=1)\n",
    "scores = cross_val_score(final_model, X, y, scoring='r2', cv=cv, n_jobs=-1, error_score='raise')\n",
    "#print(sorted(scores.tolist()))\n",
    "print(\"R2 score:\", (np.mean(scores)))"
   ]
  },
  {
   "cell_type": "markdown",
   "id": "97555a61",
   "metadata": {},
   "source": [
    "# Percentage"
   ]
  },
  {
   "cell_type": "code",
   "execution_count": 12,
   "id": "dbb47edd",
   "metadata": {},
   "outputs": [
    {
     "name": "stdout",
     "output_type": "stream",
     "text": [
      "RMSE score: 16.54164239451507\n"
     ]
    }
   ],
   "source": [
    "# Percentage - SR\n",
    "\n",
    "X = df.drop(['drug_perm_per','drug_perm_amt'], axis=1)\n",
    "y = df[[\"drug_perm_per\"]]\n",
    "\n",
    "model_1 = xg.XGBRegressor()\n",
    "model_2 = RandomForestRegressor(random_state=1)\n",
    "model_3 = DecisionTreeRegressor(random_state=1)\n",
    "model_4 = GradientBoostingRegressor()\n",
    "model_5 = neighbors.KNeighborsRegressor(n_neighbors = 1)\n",
    "final_model = StackingRegressor(estimators=[('xgb', model_1), ('rf', model_2), ('dt', model_3), ('knn',model_5)], final_estimator=model_4, cv=5)\n",
    "\n",
    "cv = RepeatedKFold(n_splits=10, n_repeats=3, random_state=1)\n",
    "scores = cross_val_score(final_model, X, y, scoring='neg_root_mean_squared_error', cv=cv, n_jobs=-1, error_score='raise')\n",
    "#print(sorted(scores.tolist()))\n",
    "print(\"RMSE score:\", np.negative(np.mean(scores)))"
   ]
  },
  {
   "cell_type": "code",
   "execution_count": 10,
   "id": "ccf63652",
   "metadata": {},
   "outputs": [
    {
     "name": "stdout",
     "output_type": "stream",
     "text": [
      "R2 score: 0.4007945112586814\n"
     ]
    }
   ],
   "source": [
    "# Percentage - SR\n",
    "\n",
    "X = df.drop(['drug_perm_per','drug_perm_amt'], axis=1)\n",
    "y = df[[\"drug_perm_per\"]]\n",
    "\n",
    "model_1 = xg.XGBRegressor()\n",
    "model_2 = RandomForestRegressor(random_state=1)\n",
    "model_3 = DecisionTreeRegressor(random_state=1)\n",
    "model_4 = GradientBoostingRegressor()\n",
    "model_5 = neighbors.KNeighborsRegressor(n_neighbors = 1)\n",
    "final_model = StackingRegressor(estimators=[('xgb', model_1), ('rf', model_2), ('dt', model_3), ('knn',model_5)], final_estimator=model_4, cv=5)\n",
    "\n",
    "cv = RepeatedKFold(n_splits=10, n_repeats=3, random_state=1)\n",
    "scores = cross_val_score(final_model, X, y, scoring='r2', cv=cv, n_jobs=-1, error_score='raise')\n",
    "#print(sorted(scores.tolist()))\n",
    "print(\"R2 score:\", (np.mean(scores)))"
   ]
  },
  {
   "cell_type": "markdown",
   "id": "d95b795d",
   "metadata": {},
   "source": [
    "# Actual vs Prediction"
   ]
  },
  {
   "cell_type": "code",
   "execution_count": 5,
   "id": "afed1f39",
   "metadata": {},
   "outputs": [],
   "source": [
    "# Per - VR\n",
    "X = df.drop(['drug_perm_per','drug_perm_amt'], axis=1)\n",
    "y = df[[\"drug_perm_per\"]]\n",
    "\n",
    "X_train, X_test, y_train, y_test = train_test_split(X,y, test_size=0.25, shuffle=True, random_state=0)\n",
    "\n",
    "model_1 = xg.XGBRegressor()\n",
    "model_2 = RandomForestRegressor(random_state=1)\n",
    "model_3 = DecisionTreeRegressor(random_state=1)\n",
    "model_4 = GradientBoostingRegressor()\n",
    "model_5 = neighbors.KNeighborsRegressor(n_neighbors = 1)\n",
    "final_model = StackingRegressor(estimators=[('xgb', model_1), ('rf', model_2), ('dt', model_3), ('knn',model_5)], final_estimator=model_4, cv=5)\n",
    "\n",
    "final_model.fit(X_train, y_train)\n",
    "y_pred = final_model.predict(X_test)"
   ]
  },
  {
   "cell_type": "code",
   "execution_count": 6,
   "id": "77e85364",
   "metadata": {
    "scrolled": true
   },
   "outputs": [],
   "source": [
    "y_test.to_csv('SR_y_test.csv')\n",
    "pd.DataFrame({'y_pred':list(y_pred)}).to_csv('SR_y_pred.csv')"
   ]
  },
  {
   "cell_type": "code",
   "execution_count": 9,
   "id": "3c99457e",
   "metadata": {},
   "outputs": [
    {
     "data": {
      "text/plain": [
       "3.6273386276967883"
      ]
     },
     "execution_count": 9,
     "metadata": {},
     "output_type": "execute_result"
    }
   ],
   "source": [
    "from sklearn.metrics import mean_squared_error\n",
    "\n",
    "rmse = mean_squared_error(y_test, y_pred, squared=False)\n",
    "rmse"
   ]
  },
  {
   "cell_type": "code",
   "execution_count": 12,
   "id": "299b261e",
   "metadata": {},
   "outputs": [
    {
     "data": {
      "text/plain": [
       "0.9778794541494622"
      ]
     },
     "execution_count": 12,
     "metadata": {},
     "output_type": "execute_result"
    }
   ],
   "source": [
    "from sklearn.metrics import r2_score\n",
    "r2_score(y_test, y_pred) "
   ]
  }
 ],
 "metadata": {
  "kernelspec": {
   "display_name": "Python 3 (ipykernel)",
   "language": "python",
   "name": "python3"
  },
  "language_info": {
   "codemirror_mode": {
    "name": "ipython",
    "version": 3
   },
   "file_extension": ".py",
   "mimetype": "text/x-python",
   "name": "python",
   "nbconvert_exporter": "python",
   "pygments_lexer": "ipython3",
   "version": "3.11.7"
  }
 },
 "nbformat": 4,
 "nbformat_minor": 5
}
