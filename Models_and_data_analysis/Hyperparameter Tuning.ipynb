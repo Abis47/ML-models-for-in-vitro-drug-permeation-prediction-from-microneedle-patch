{
 "cells": [
  {
   "cell_type": "code",
   "execution_count": 2,
   "id": "4c4d9bc9",
   "metadata": {},
   "outputs": [],
   "source": [
    "import pandas as pd\n",
    "import seaborn as sns\n",
    "import numpy as np\n",
    "import matplotlib.pyplot as plt\n",
    "import matplotlib.style as style\n",
    "\n",
    "import warnings\n",
    "warnings.filterwarnings(\"ignore\")\n",
    "\n",
    "pd.set_option('display.max_columns',None)\n",
    "pd.set_option('display.max_rows',100)\n",
    "\n",
    "from sklearn.model_selection import train_test_split\n",
    "from sklearn.preprocessing import StandardScaler\n",
    "from sklearn.preprocessing import MinMaxScaler\n",
    "\n",
    "import scipy.stats as stats\n",
    "\n",
    "from sklearn.preprocessing import PolynomialFeatures\n",
    "from sklearn.ensemble import RandomForestRegressor\n",
    "from sklearn.tree import DecisionTreeRegressor\n",
    "from sklearn import neighbors\n",
    "import xgboost as xg\n",
    "from sklearn.ensemble import GradientBoostingRegressor\n",
    "\n",
    "from sklearn import metrics\n",
    "from sklearn.metrics import mean_squared_error, mean_absolute_error\n",
    "from sklearn.metrics import r2_score\n",
    "from math import sqrt\n",
    "\n",
    "# Hyperparameter tuner and Cross Validation\n",
    "from sklearn.model_selection import RepeatedKFold\n",
    "from sklearn.model_selection import cross_val_score\n",
    "from sklearn.ensemble import VotingRegressor\n",
    "from sklearn.ensemble import StackingRegressor\n",
    "from sklearn.model_selection import GridSearchCV\n",
    "from sklearn.model_selection import RandomizedSearchCV\n",
    "import math\n",
    "\n",
    "#sns.set(rc={\"figure.dpi\":300, 'savefig.dpi':300})\n",
    "plt.rcParams['figure.dpi'] = 300\n",
    "plt.rcParams['savefig.dpi'] = 300\n",
    "sns.set(rc={\"figure.dpi\":300, 'savefig.dpi':800})"
   ]
  },
  {
   "cell_type": "code",
   "execution_count": 3,
   "id": "4b76f73c",
   "metadata": {},
   "outputs": [],
   "source": [
    "df = pd.read_csv(\"df1.csv\")"
   ]
  },
  {
   "cell_type": "code",
   "execution_count": 4,
   "id": "715d5e81",
   "metadata": {},
   "outputs": [],
   "source": [
    "X = df.drop(['drug_perm_per','drug_perm_amt'], axis=1)\n",
    "y = df[[\"drug_perm_per\"]]\n",
    "columns = []\n",
    "for i in X.columns:\n",
    "    columns.append(i)"
   ]
  },
  {
   "cell_type": "markdown",
   "id": "b8720f1f",
   "metadata": {},
   "source": [
    "# Voting Regressor"
   ]
  },
  {
   "cell_type": "markdown",
   "id": "cf86a0f4",
   "metadata": {},
   "source": [
    "# Drug permeation percentage - Hypertuning"
   ]
  },
  {
   "cell_type": "code",
   "execution_count": 54,
   "id": "77b8c746",
   "metadata": {},
   "outputs": [
    {
     "name": "stdout",
     "output_type": "stream",
     "text": [
      "------------------------------\n",
      "------------------------------\n",
      "{'knn__n_neighbors': 1, 'rf__n_estimators': 100, 'xgb__eta': 0.2, 'xgb__max_depth': 10}\n",
      "------------------------------\n",
      "RMSE score: 3.23382275837779\n",
      "------------------------------\n",
      "------------------------------\n"
     ]
    }
   ],
   "source": [
    "X = df.drop(['drug_perm_per','drug_perm_amt'], axis=1)\n",
    "y = df[[\"drug_perm_per\"]]\n",
    "\n",
    "model_1 = xg.XGBRegressor()\n",
    "model_2 = RandomForestRegressor(random_state=1)\n",
    "model_4 = GradientBoostingRegressor()\n",
    "model_5 = neighbors.KNeighborsRegressor()\n",
    "final_model = VotingRegressor(estimators=[('xgb', model_1), ('rf', model_2), ('gbr', model_4), ('knn',model_5)])\n",
    "\n",
    "params = {\n",
    "    'rf__n_estimators': [10, 50, 100],\n",
    "    'xgb__eta':  [0.1, 0.2, 0.5],\n",
    "    'xgb__max_depth': [3, 10, 20, None],\n",
    "    'knn__n_neighbors' : [1, 2],\n",
    "         }\n",
    "\n",
    "cv = RepeatedKFold(n_splits=10, n_repeats=3, random_state=1)\n",
    "grid = GridSearchCV(estimator=final_model, param_grid=params, cv=cv, scoring=\"neg_root_mean_squared_error\")\n",
    "grid.fit(X,y)\n",
    "\n",
    "print(\"------------------------------\")\n",
    "print(\"------------------------------\")\n",
    "print (grid.best_params_)\n",
    "print(\"------------------------------\")\n",
    "print(\"RMSE score:\", np.negative(np.mean(grid.best_score_)))\n",
    "print(\"------------------------------\")\n",
    "print(\"------------------------------\")"
   ]
  },
  {
   "cell_type": "markdown",
   "id": "5e4a8c2d",
   "metadata": {},
   "source": [
    "# Drug permeation amount - Hypertuning"
   ]
  },
  {
   "cell_type": "code",
   "execution_count": 55,
   "id": "2e182266",
   "metadata": {},
   "outputs": [
    {
     "name": "stdout",
     "output_type": "stream",
     "text": [
      "------------------------------\n",
      "------------------------------\n",
      "{'knn__n_neighbors': 1, 'rf__n_estimators': 50, 'xgb__eta': 0.1, 'xgb__max_depth': 3}\n",
      "------------------------------\n",
      "RMSE score: 669.6923750654195\n",
      "------------------------------\n",
      "------------------------------\n"
     ]
    }
   ],
   "source": [
    "X = df.drop(['drug_perm_per','drug_perm_amt'], axis=1)\n",
    "y = df[[\"drug_perm_amt\"]]\n",
    "\n",
    "model_1 = xg.XGBRegressor()\n",
    "model_2 = RandomForestRegressor(random_state=1)\n",
    "model_4 = GradientBoostingRegressor()\n",
    "model_5 = neighbors.KNeighborsRegressor()\n",
    "final_model = VotingRegressor(estimators=[('xgb', model_1), ('rf', model_2), ('gbr', model_4), ('knn',model_5)])\n",
    "\n",
    "params = {\n",
    "    'rf__n_estimators': [10, 50, 100],\n",
    "    'xgb__eta':  [0.1, 0.2, 0.5],\n",
    "    'xgb__max_depth': [3, 10, 20, None],\n",
    "    'knn__n_neighbors' : [1, 2],\n",
    "         }\n",
    "\n",
    "cv = RepeatedKFold(n_splits=10, n_repeats=3, random_state=1)\n",
    "grid = GridSearchCV(estimator=final_model, param_grid=params, cv=cv, scoring=\"neg_root_mean_squared_error\")\n",
    "grid.fit(X,y)\n",
    "\n",
    "print(\"------------------------------\")\n",
    "print(\"------------------------------\")\n",
    "print (grid.best_params_)\n",
    "print(\"------------------------------\")\n",
    "print(\"RMSE score:\", np.negative(np.mean(grid.best_score_)))\n",
    "print(\"------------------------------\")\n",
    "print(\"------------------------------\")"
   ]
  }
 ],
 "metadata": {
  "kernelspec": {
   "display_name": "Python 3 (ipykernel)",
   "language": "python",
   "name": "python3"
  },
  "language_info": {
   "codemirror_mode": {
    "name": "ipython",
    "version": 3
   },
   "file_extension": ".py",
   "mimetype": "text/x-python",
   "name": "python",
   "nbconvert_exporter": "python",
   "pygments_lexer": "ipython3",
   "version": "3.11.7"
  }
 },
 "nbformat": 4,
 "nbformat_minor": 5
}
